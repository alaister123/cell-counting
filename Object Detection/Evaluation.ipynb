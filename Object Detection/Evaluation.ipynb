{
 "cells": [
  {
   "cell_type": "markdown",
   "metadata": {
    "id": "85Kl54dFgvW_"
   },
   "source": [
    "# Load Necessary Stuff"
   ]
  },
  {
   "cell_type": "code",
   "execution_count": null,
   "metadata": {
    "colab": {
     "base_uri": "https://localhost:8080/"
    },
    "id": "lARrdokweYo4",
    "outputId": "85b452ec-7968-4260-bbd5-a4648658251d"
   },
   "outputs": [],
   "source": [
    "!pip install Pillow==9.4.0"
   ]
  },
  {
   "cell_type": "code",
   "execution_count": null,
   "metadata": {
    "colab": {
     "base_uri": "https://localhost:8080/"
    },
    "id": "RdedcfdfvrKM",
    "outputId": "79aa2d04-c38a-4d13-c917-4cb60964dbc0"
   },
   "outputs": [],
   "source": [
    "!unzip /content/test.zip -d /content/"
   ]
  },
  {
   "cell_type": "code",
   "execution_count": null,
   "metadata": {
    "colab": {
     "base_uri": "https://localhost:8080/",
     "height": 617
    },
    "id": "OfncM5GifGqt",
    "outputId": "d8801c13-6e44-4fe9-b19f-1de493332fe6"
   },
   "outputs": [],
   "source": [
    "from PIL import Image\n",
    "Image.open('/content/test/220812_GFP-AHPC_C_GFAP_F10_DAPI_ND1_20x.tiff')"
   ]
  },
  {
   "cell_type": "code",
   "execution_count": null,
   "metadata": {
    "id": "Z39WKCPn10Q3"
   },
   "outputs": [],
   "source": [
    "%matplotlib inline\n",
    "import torch\n",
    "import pandas as pd\n",
    "import numpy as np\n",
    "from matplotlib import pyplot as plt\n",
    "import matplotlib\n",
    "from matplotlib.collections import PatchCollection\n",
    "import matplotlib.patches as patches\n",
    "import os"
   ]
  },
  {
   "cell_type": "code",
   "execution_count": null,
   "metadata": {
    "id": "u31RcK85b4F4"
   },
   "outputs": [],
   "source": []
  },
  {
   "cell_type": "code",
   "execution_count": null,
   "metadata": {
    "id": "ZVEJhEVvdWga"
   },
   "outputs": [],
   "source": []
  },
  {
   "cell_type": "code",
   "execution_count": null,
   "metadata": {
    "colab": {
     "base_uri": "https://localhost:8080/"
    },
    "id": "Tv6i--n4198O",
    "outputId": "0b8b913e-0929-4092-f7d4-35dd7c3b57a3"
   },
   "outputs": [],
   "source": [
    "model = torch.hub.load('ultralytics/yolov5', 'custom', path=\"/content/best.pt\")\n",
    "model.conf = 0.20  # NMS confidence threshold\n",
    "model.iou = 0.20  # NMS IoU threshold"
   ]
  },
  {
   "cell_type": "code",
   "execution_count": null,
   "metadata": {
    "id": "fDwKULYH2A7c"
   },
   "outputs": [],
   "source": []
  },
  {
   "cell_type": "code",
   "execution_count": null,
   "metadata": {
    "id": "KgZeiZ7G2DQT"
   },
   "outputs": [],
   "source": []
  },
  {
   "cell_type": "code",
   "execution_count": null,
   "metadata": {
    "id": "FQs5PBr02EQw"
   },
   "outputs": [],
   "source": [
    "img = []\n",
    "for i in os.listdir('/content/test'):\n",
    "  if '.tiff' in i:\n",
    "    img.append(i)"
   ]
  },
  {
   "cell_type": "code",
   "execution_count": null,
   "metadata": {
    "id": "A00Jbg7eMOGg"
   },
   "outputs": [],
   "source": [
    "# calculate MSE (Incorrect)\n",
    "from sklearn.metrics import mean_absolute_error"
   ]
  },
  {
   "cell_type": "code",
   "execution_count": null,
   "metadata": {
    "id": "QVXGjgBUg0Yc"
   },
   "outputs": [],
   "source": []
  },
  {
   "cell_type": "markdown",
   "metadata": {
    "id": "_Uar6MhXg0_6"
   },
   "source": [
    "# Quick Overview Result (Raw MAE, Raw ACP, Inside box MAE, Inside box ACP)"
   ]
  },
  {
   "cell_type": "code",
   "execution_count": null,
   "metadata": {
    "colab": {
     "base_uri": "https://localhost:8080/"
    },
    "id": "KU7J03hq2FnX",
    "outputId": "5ed23eab-058a-4f65-8494-79627d10f36d"
   },
   "outputs": [],
   "source": [
    "#raw mae\n",
    "y_pred = []\n",
    "y_true = []\n",
    "\n",
    "for i in range(len(img)):\n",
    "  pred_result = model('/content/test/' + img[i])\n",
    "  y_pred.append(len(pred_result.pandas().xyxy[0]))\n",
    "  true_result = pd.read_csv('/content/test/' + img[i].replace('.tiff','.csv'))\n",
    "  y_true.append(len(true_result))\n",
    "\n",
    "mean_absolute_error(y_true, y_pred)"
   ]
  },
  {
   "cell_type": "code",
   "execution_count": null,
   "metadata": {
    "colab": {
     "base_uri": "https://localhost:8080/"
    },
    "id": "SCdDOo8A9A5i",
    "outputId": "a7322a50-1b0c-42c5-c326-2e1239e3959a"
   },
   "outputs": [],
   "source": [
    "#raw acp\n",
    "satisfy_acp = 0\n",
    "\n",
    "\n",
    "# count the number of images\n",
    "cnt_num = 0\n",
    "for i in range(len(img)):\n",
    "\n",
    "  true_result = pd.read_csv('/content/test/' + img[i].replace('.tiff','.csv'))\n",
    "  true_result = true_result[['X','Y']].values.tolist()\n",
    "  y_true = len(true_result)\n",
    "\n",
    "  pred_result = model('/content/test/' + img[i])\n",
    "  pred_result = pred_result.pandas().xyxy[0]\n",
    "  y_pred = len(pred_result)\n",
    "\n",
    "  cnt_num += 1\n",
    "\n",
    "\n",
    "  if abs(y_pred-y_true) <= 0.05 * y_true:\n",
    "    satisfy_acp += 1\n",
    "print(satisfy_acp/cnt_num)"
   ]
  },
  {
   "cell_type": "code",
   "execution_count": null,
   "metadata": {
    "id": "bVNWYgbT9R2R"
   },
   "outputs": [],
   "source": []
  },
  {
   "cell_type": "code",
   "execution_count": null,
   "metadata": {
    "id": "9RU6sAnb9R4p"
   },
   "outputs": [],
   "source": [
    "def in_box(pred_result,x,y):\n",
    "  return pred_result[(pred_result['xmin'] <= x) & (pred_result['xmax'] >= x) & (pred_result['ymin'] <= y) & (pred_result['ymax'] >= y)]"
   ]
  },
  {
   "cell_type": "code",
   "execution_count": null,
   "metadata": {
    "id": "ENbpZlFw9ZS1"
   },
   "outputs": [],
   "source": []
  },
  {
   "cell_type": "code",
   "execution_count": null,
   "metadata": {
    "colab": {
     "base_uri": "https://localhost:8080/"
    },
    "id": "GE-dgRV89A8s",
    "outputId": "c9488013-1eb8-4a3c-ba7f-5038dbe2336e"
   },
   "outputs": [],
   "source": [
    "# inside_box MAE\n",
    "inside_box = []\n",
    "\n",
    "for i in range(len(img)):\n",
    "\n",
    "  # Load Pred & True Result\n",
    "  pred_result = model('/content/test/' + img[i])\n",
    "  true_result = pd.read_csv('/content/test/' + img[i].replace('.tiff','.csv'))\n",
    "\n",
    "\n",
    "  pred_result = pred_result.pandas().xyxy[0]\n",
    "  true_result = true_result[['X','Y']].values.tolist()\n",
    "  cnt = 0\n",
    "\n",
    "  # copy pred_result\n",
    "  pred_temp = pred_result.copy()\n",
    "\n",
    "\n",
    "  for i in true_result:\n",
    "    bounding_box = in_box(pred_temp,i[0],i[1])\n",
    "    if len(bounding_box) > 0:\n",
    "      cnt += 1\n",
    "      # delete this box so future pts cannot associate with this bounding box\n",
    "      pred_temp = pred_temp.drop(index=bounding_box.index[0])\n",
    "  inside_box.append(abs(cnt-len(true_result)))\n",
    "sum(inside_box)/len(inside_box)"
   ]
  },
  {
   "cell_type": "code",
   "execution_count": null,
   "metadata": {
    "colab": {
     "base_uri": "https://localhost:8080/"
    },
    "id": "_ZknURqC9A_0",
    "outputId": "1395c51f-2830-4ce5-9732-cf68404cc34e"
   },
   "outputs": [],
   "source": [
    "#inside box acp\n",
    "satisfy_acp = 0\n",
    "\n",
    "\n",
    "# count the number of images\n",
    "cnt_num = 0\n",
    "for i in range(len(img)):\n",
    "\n",
    "  true_result = pd.read_csv('/content/test/' + img[i].replace('.tiff','.csv'))\n",
    "  true_result = true_result[['X','Y']].values.tolist()\n",
    "  y_true = len(true_result)\n",
    "\n",
    "  pred_result = model('/content/test/' + img[i])\n",
    "  pred_result = pred_result.pandas().xyxy[0]\n",
    "\n",
    "\n",
    "  # true cell is the # of cell in bounding box\n",
    "  true_cell = 0\n",
    "\n",
    "  # copy pred_result\n",
    "  pred_temp = pred_result.copy()\n",
    "  for i in true_result:\n",
    "    bounding_box = in_box(pred_temp,i[0],i[1])\n",
    "    if len(bounding_box) > 0:\n",
    "      true_cell += 1\n",
    "      # delete this box so future pts cannot associate with this bounding box\n",
    "      pred_temp = pred_temp.drop(index=bounding_box.index[0])\n",
    "\n",
    "\n",
    "  y_pred = true_cell\n",
    "  cnt_num += 1\n",
    "\n",
    "\n",
    "  if abs(y_pred-y_true) <= 0.05 * y_true:\n",
    "    satisfy_acp += 1\n",
    "print(satisfy_acp/cnt_num)"
   ]
  },
  {
   "cell_type": "code",
   "execution_count": null,
   "metadata": {
    "id": "pP1fcWAH9BC5"
   },
   "outputs": [],
   "source": []
  },
  {
   "cell_type": "code",
   "execution_count": null,
   "metadata": {
    "id": "NCjHaQHg9BI9"
   },
   "outputs": [],
   "source": []
  },
  {
   "cell_type": "markdown",
   "metadata": {
    "id": "RmuaBNnVg_sV"
   },
   "source": [
    "# Detailed Low Mid High Raw MAE"
   ]
  },
  {
   "cell_type": "code",
   "execution_count": null,
   "metadata": {
    "colab": {
     "base_uri": "https://localhost:8080/"
    },
    "id": "IVIBnIAs6DOY",
    "outputId": "7f4b285f-0c1f-4ace-8ea7-2ff7c0b7d4b0"
   },
   "outputs": [],
   "source": [
    "# Raw Low\n",
    "y_pred = []\n",
    "y_true = []\n",
    "\n",
    "for i in range(len(img)):\n",
    "  pred_result = model('/content/test/' + img[i])\n",
    "  true_result = pd.read_csv('/content/test/' + img[i].replace('.tiff','.csv'))\n",
    "  if len(true_result) <= 45:\n",
    "    y_true.append(len(true_result))\n",
    "    y_pred.append(len(pred_result.pandas().xyxy[0]))\n",
    "\n",
    "mean_absolute_error(y_true, y_pred)"
   ]
  },
  {
   "cell_type": "code",
   "execution_count": null,
   "metadata": {
    "colab": {
     "base_uri": "https://localhost:8080/"
    },
    "id": "gxDLO22u6HsN",
    "outputId": "2eaab5b9-5722-4a6c-80cf-7dbb323e1a39"
   },
   "outputs": [],
   "source": [
    "# Raw Mid\n",
    "y_pred = []\n",
    "y_true = []\n",
    "\n",
    "for i in range(len(img)):\n",
    "  pred_result = model('/content/test/' + img[i])\n",
    "  true_result = pd.read_csv('/content/test/' + img[i].replace('.tiff','.csv'))\n",
    "  if len(true_result) <= 310 and len(true_result) > 45:\n",
    "    y_true.append(len(true_result))\n",
    "    y_pred.append(len(pred_result.pandas().xyxy[0]))\n",
    "\n",
    "mean_absolute_error(y_true, y_pred)"
   ]
  },
  {
   "cell_type": "code",
   "execution_count": null,
   "metadata": {
    "colab": {
     "base_uri": "https://localhost:8080/"
    },
    "id": "EH_oLCsl6DU1",
    "outputId": "bb4100a8-d811-4b44-fdc3-55b8c61f3756"
   },
   "outputs": [],
   "source": [
    "# Raw High\n",
    "y_pred = []\n",
    "y_true = []\n",
    "\n",
    "for i in range(len(img)):\n",
    "  pred_result = model('/content/test/' + img[i])\n",
    "  true_result = pd.read_csv('/content/test/' + img[i].replace('.tiff','.csv'))\n",
    "  if len(true_result) > 310:\n",
    "    y_true.append(len(true_result))\n",
    "    y_pred.append(len(pred_result.pandas().xyxy[0]))\n",
    "\n",
    "mean_absolute_error(y_true, y_pred)"
   ]
  },
  {
   "cell_type": "code",
   "execution_count": null,
   "metadata": {
    "id": "p5NHjWy_6xc7"
   },
   "outputs": [],
   "source": []
  },
  {
   "cell_type": "markdown",
   "metadata": {
    "id": "T7QPJf-rhE1L"
   },
   "source": [
    "# Detailed Low Mid High Raw ACP"
   ]
  },
  {
   "cell_type": "code",
   "execution_count": null,
   "metadata": {
    "colab": {
     "base_uri": "https://localhost:8080/"
    },
    "id": "9KLVhYDEczzC",
    "outputId": "5ff4b160-d44b-43a8-a144-099e73e807d5"
   },
   "outputs": [],
   "source": [
    "#raw low acp\n",
    "satisfy_acp = 0\n",
    "\n",
    "\n",
    "# count the number of images\n",
    "cnt_num = 0\n",
    "for i in range(len(img)):\n",
    "\n",
    "  true_result = pd.read_csv('/content/test/' + img[i].replace('.tiff','.csv'))\n",
    "  true_result = true_result[['X','Y']].values.tolist()\n",
    "  y_true = len(true_result)\n",
    "\n",
    "  pred_result = model('/content/test/' + img[i])\n",
    "  pred_result = pred_result.pandas().xyxy[0]\n",
    "  y_pred = len(pred_result)\n",
    "\n",
    "\n",
    "  if len(true_result) <= 45:\n",
    "    cnt_num += 1\n",
    "    if abs(y_pred-y_true) <= 0.05 * y_true:\n",
    "      satisfy_acp += 1\n",
    "print(satisfy_acp/cnt_num)\n",
    "print(satisfy_acp, cnt_num)"
   ]
  },
  {
   "cell_type": "code",
   "execution_count": null,
   "metadata": {
    "colab": {
     "base_uri": "https://localhost:8080/"
    },
    "id": "BrVnDP0Ucz1d",
    "outputId": "abcceeab-9a60-4f59-ef55-6aac78579be5"
   },
   "outputs": [],
   "source": [
    "#raw mid acp\n",
    "satisfy_acp = 0\n",
    "\n",
    "\n",
    "# count the number of images\n",
    "cnt_num = 0\n",
    "for i in range(len(img)):\n",
    "\n",
    "  true_result = pd.read_csv('/content/test/' + img[i].replace('.tiff','.csv'))\n",
    "  true_result = true_result[['X','Y']].values.tolist()\n",
    "  y_true = len(true_result)\n",
    "\n",
    "  pred_result = model('/content/test/' + img[i])\n",
    "  pred_result = pred_result.pandas().xyxy[0]\n",
    "  y_pred = len(pred_result)\n",
    "\n",
    "\n",
    "  if len(true_result) <= 310 and len(true_result) > 45:\n",
    "    cnt_num += 1\n",
    "\n",
    "    if abs(y_pred-y_true) <= 0.05 * y_true:\n",
    "      satisfy_acp += 1\n",
    "print(satisfy_acp/cnt_num)\n",
    "print(satisfy_acp, cnt_num)"
   ]
  },
  {
   "cell_type": "code",
   "execution_count": null,
   "metadata": {
    "colab": {
     "base_uri": "https://localhost:8080/"
    },
    "id": "xRon7GCycz4B",
    "outputId": "607ab78e-2587-41a4-a5b8-8ba7d87d9d9e"
   },
   "outputs": [],
   "source": [
    "#raw high acp\n",
    "satisfy_acp = 0\n",
    "\n",
    "\n",
    "# count the number of images\n",
    "cnt_num = 0\n",
    "for i in range(len(img)):\n",
    "\n",
    "  true_result = pd.read_csv('/content/test/' + img[i].replace('.tiff','.csv'))\n",
    "  true_result = true_result[['X','Y']].values.tolist()\n",
    "  y_true = len(true_result)\n",
    "\n",
    "  pred_result = model('/content/test/' + img[i])\n",
    "  pred_result = pred_result.pandas().xyxy[0]\n",
    "  y_pred = len(pred_result)\n",
    "\n",
    "\n",
    "  if len(true_result) > 310:\n",
    "    cnt_num += 1\n",
    "\n",
    "    if abs(y_pred-y_true) <= 0.05 * y_true:\n",
    "      satisfy_acp += 1\n",
    "print(satisfy_acp/cnt_num)\n",
    "print(satisfy_acp, cnt_num)"
   ]
  },
  {
   "cell_type": "code",
   "execution_count": null,
   "metadata": {
    "colab": {
     "base_uri": "https://localhost:8080/"
    },
    "id": "-gOtFHjhcz6f",
    "outputId": "12fc8a73-4fb2-4798-8300-0da655ede5ea"
   },
   "outputs": [],
   "source": []
  },
  {
   "cell_type": "code",
   "execution_count": null,
   "metadata": {
    "id": "yp66ZU7ncz9c"
   },
   "outputs": [],
   "source": []
  },
  {
   "cell_type": "code",
   "execution_count": null,
   "metadata": {
    "id": "ggpOPfLH6xhM"
   },
   "outputs": [],
   "source": []
  },
  {
   "cell_type": "code",
   "execution_count": null,
   "metadata": {
    "id": "SzszbbpK6xj_"
   },
   "outputs": [],
   "source": [
    "# def box_transformation(location, height, width):\n",
    "#   x, y = location\n",
    "#   h = height / 2\n",
    "#   w = width / 2\n",
    "\n",
    "#   pt1 = (max(0,x-w),max(0,y-h))\n",
    "#   pt2 = (min(x+h,600),min(800,y+h))\n",
    "#   pt3 = (min(x+h,600),max(0,y-h))\n",
    "#   pt4 = (max(0,x-w,min(800,y+h)))\n",
    "\n",
    "#   return [x-w,y-h,x+w,y+h]"
   ]
  },
  {
   "cell_type": "code",
   "execution_count": null,
   "metadata": {
    "id": "r8Jvvqmk6-Tl"
   },
   "outputs": [],
   "source": [
    "# from torchvision.ops import box_iou"
   ]
  },
  {
   "cell_type": "code",
   "execution_count": null,
   "metadata": {
    "colab": {
     "base_uri": "https://localhost:8080/"
    },
    "id": "y8fjKlX-6xmZ",
    "outputId": "1f983898-e4fd-4eba-95be-356f39b0b22c"
   },
   "outputs": [],
   "source": [
    "# accuracy = []\n",
    "\n",
    "# for i in range(len(img)):\n",
    "#   pred_result = model('/content/test/' + img[i])\n",
    "#   true_result = pd.read_csv('/content/test/' + img[i].replace('.tiff','.csv'))\n",
    "\n",
    "#   true_result = true_result.sort_values(by=['X', 'Y'])[['X','Y']].values.tolist()\n",
    "#   pred_xyxy = pred_result.pandas().xyxy[0].sort_values(by=['xmin', 'ymin'])[['xmin','ymin','xmax','ymax']].values.tolist()\n",
    "\n",
    "\n",
    "#   true_xyxy = []\n",
    "#   for i in true_result:\n",
    "#     true_xyxy.append(box_transformation(i, 10,10))\n",
    "\n",
    "#   cnt = 0\n",
    "\n",
    "#   size = len(true_xyxy) if len(true_xyxy) < len(pred_xyxy) else len(pred_xyxy)\n",
    "\n",
    "#   for i in range(size):\n",
    "#     if sum(box_iou(torch.tensor(pred_xyxy),torch.tensor(true_xyxy))[i] > 0.1) > 0:\n",
    "#       cnt += 1\n",
    "#   accuracy.append(cnt/len(true_xyxy))\n",
    "#   print(i)"
   ]
  },
  {
   "cell_type": "code",
   "execution_count": null,
   "metadata": {
    "id": "2Fae6-QY-k2Z"
   },
   "outputs": [],
   "source": []
  },
  {
   "cell_type": "code",
   "execution_count": null,
   "metadata": {
    "colab": {
     "base_uri": "https://localhost:8080/"
    },
    "id": "9Ah9sV2B7SnY",
    "outputId": "d90ff1d8-10f4-46d7-c706-e3c16df0dba4"
   },
   "outputs": [],
   "source": [
    "# # IOU Accuracy\n",
    "# sum(accuracy)/len(accuracy)"
   ]
  },
  {
   "cell_type": "code",
   "execution_count": null,
   "metadata": {
    "id": "mrL3yqfS9dTS"
   },
   "outputs": [],
   "source": []
  },
  {
   "cell_type": "code",
   "execution_count": null,
   "metadata": {
    "id": "YXTj2UDX9dWe"
   },
   "outputs": [],
   "source": [
    "# Annotation inside the box approach"
   ]
  },
  {
   "cell_type": "code",
   "execution_count": null,
   "metadata": {
    "id": "PUjlxR1B9dZb"
   },
   "outputs": [],
   "source": [
    "pred_result = model('/content/test/' + img[10])\n",
    "true_result = pd.read_csv('/content/test/' + img[10].replace('.tiff','.csv'))"
   ]
  },
  {
   "cell_type": "code",
   "execution_count": null,
   "metadata": {
    "id": "5q5VSTpw9dcE"
   },
   "outputs": [],
   "source": [
    "pred_result = pred_result.pandas().xyxy[0].sort_values(by=['xmin', 'ymin'])[['xmin','ymin','xmax','ymax']]\n",
    "true_result = true_result.sort_values(by=['X', 'Y'])[['X','Y']].values.tolist()"
   ]
  },
  {
   "cell_type": "code",
   "execution_count": null,
   "metadata": {
    "id": "hKU_D2cM-0tj"
   },
   "outputs": [],
   "source": [
    "true_result"
   ]
  },
  {
   "cell_type": "code",
   "execution_count": null,
   "metadata": {
    "id": "jUP3oS8u-lhd"
   },
   "outputs": [],
   "source": [
    "def in_box(pred_result,x,y):\n",
    "  return pred_result[(pred_result['xmin'] <= x) & (pred_result['xmax'] >= x) & (pred_result['ymin'] <= y) & (pred_result['ymax'] >= y)]"
   ]
  },
  {
   "cell_type": "code",
   "execution_count": null,
   "metadata": {
    "colab": {
     "base_uri": "https://localhost:8080/"
    },
    "id": "g2Jh_3bh_9nN",
    "outputId": "9a644d8c-64b6-4638-f7c6-480beb27f2c6"
   },
   "outputs": [],
   "source": [
    "cnt = 0\n",
    "for i in true_result:\n",
    "  bounding_box = in_box(pred_result,i[0],i[1])\n",
    "  if len(bounding_box) > 0:\n",
    "    cnt += 1\n",
    "    pred_result = pred_result.drop(index=bounding_box.index[0])\n",
    "print(cnt/len(true_result))"
   ]
  },
  {
   "cell_type": "code",
   "execution_count": null,
   "metadata": {
    "id": "stOCZnAaAtNM"
   },
   "outputs": [],
   "source": []
  },
  {
   "cell_type": "code",
   "execution_count": null,
   "metadata": {
    "id": "k_HYsQUCAtP6"
   },
   "outputs": [],
   "source": []
  },
  {
   "cell_type": "markdown",
   "metadata": {
    "id": "7uTzPgh0hQP1"
   },
   "source": [
    "# Average % of inside box annotation per image"
   ]
  },
  {
   "cell_type": "code",
   "execution_count": null,
   "metadata": {
    "colab": {
     "base_uri": "https://localhost:8080/"
    },
    "id": "McyvslFaAtSV",
    "outputId": "0594b76b-9240-4e2b-d1c4-31db882a6186"
   },
   "outputs": [],
   "source": [
    "#Overall\n",
    "inside_box = []\n",
    "\n",
    "for i in range(len(img)):\n",
    "\n",
    "  # Load Pred & True Result\n",
    "  pred_result = model('/content/test/' + img[i])\n",
    "  true_result = pd.read_csv('/content/test/' + img[i].replace('.tiff','.csv'))\n",
    "\n",
    "\n",
    "  pred_result = pred_result.pandas().xyxy[0]\n",
    "  true_result = true_result[['X','Y']].values.tolist()\n",
    "  cnt = 0\n",
    "\n",
    "  # copy pred_result\n",
    "  pred_temp = pred_result.copy()\n",
    "\n",
    "\n",
    "  for i in true_result:\n",
    "    bounding_box = in_box(pred_temp,i[0],i[1])\n",
    "    if len(bounding_box) > 0:\n",
    "      cnt += 1\n",
    "      # delete this box so future pts cannot associate with this bounding box\n",
    "      pred_temp = pred_temp.drop(index=bounding_box.index[0])\n",
    "  inside_box.append(cnt/len(true_result))\n",
    "sum(inside_box)/len(inside_box)"
   ]
  },
  {
   "cell_type": "code",
   "execution_count": null,
   "metadata": {
    "id": "OsS6xOrvBRst"
   },
   "outputs": [],
   "source": []
  },
  {
   "cell_type": "code",
   "execution_count": null,
   "metadata": {
    "id": "qFwvqw6jCLmH"
   },
   "outputs": [],
   "source": []
  },
  {
   "cell_type": "code",
   "execution_count": null,
   "metadata": {
    "id": "dWwuD61rCLou"
   },
   "outputs": [],
   "source": []
  },
  {
   "cell_type": "code",
   "execution_count": null,
   "metadata": {
    "colab": {
     "base_uri": "https://localhost:8080/"
    },
    "id": "1IxO-ukeCLq7",
    "outputId": "70ac20df-754f-4714-dee6-b041eb75a65f"
   },
   "outputs": [],
   "source": [
    "# Low %\n",
    "inside_box = []\n",
    "\n",
    "for i in range(len(img)):\n",
    "  pred_result = model('/content/test/' + img[i])\n",
    "  true_result = pd.read_csv('/content/test/' + img[i].replace('.tiff','.csv'))\n",
    "  pred_result = pred_result.pandas().xyxy[0].sort_values(by=['xmin', 'ymin'])[['xmin','ymin','xmax','ymax']]\n",
    "  true_result = true_result.sort_values(by=['X', 'Y'])[['X','Y']].values.tolist()\n",
    "  cnt = 0\n",
    "\n",
    "  pred_temp = pred_result.copy()\n",
    "\n",
    "\n",
    "  for i in true_result:\n",
    "    bounding_box = in_box(pred_temp,i[0],i[1])\n",
    "    if len(bounding_box) > 0:\n",
    "      cnt += 1\n",
    "      pred_temp = pred_temp.drop(index=bounding_box.index[0])\n",
    "  if len(true_result) <= 45:\n",
    "    inside_box.append(cnt/len(true_result))\n",
    "sum(inside_box)/len(inside_box)"
   ]
  },
  {
   "cell_type": "code",
   "execution_count": null,
   "metadata": {
    "colab": {
     "base_uri": "https://localhost:8080/"
    },
    "id": "u1g-EBFbCsp0",
    "outputId": "7d30b6bf-bf29-4ac3-f90a-c4e0014c638e"
   },
   "outputs": [],
   "source": [
    "# Mid %\n",
    "inside_box = []\n",
    "\n",
    "for i in range(len(img)):\n",
    "  pred_result = model('/content/test/' + img[i])\n",
    "  true_result = pd.read_csv('/content/test/' + img[i].replace('.tiff','.csv'))\n",
    "  pred_result = pred_result.pandas().xyxy[0].sort_values(by=['xmin', 'ymin'])[['xmin','ymin','xmax','ymax']]\n",
    "  true_result = true_result.sort_values(by=['X', 'Y'])[['X','Y']].values.tolist()\n",
    "  cnt = 0\n",
    "\n",
    "  pred_temp = pred_result.copy()\n",
    "\n",
    "\n",
    "  for i in true_result:\n",
    "    bounding_box = in_box(pred_temp,i[0],i[1])\n",
    "    if len(bounding_box) > 0:\n",
    "      cnt += 1\n",
    "      pred_temp = pred_temp.drop(index=bounding_box.index[0])\n",
    "  if len(true_result) > 45 and len(true_result) <= 310:\n",
    "    inside_box.append(cnt/len(true_result))\n",
    "sum(inside_box)/len(inside_box)"
   ]
  },
  {
   "cell_type": "code",
   "execution_count": null,
   "metadata": {
    "colab": {
     "base_uri": "https://localhost:8080/"
    },
    "id": "zclia3SGLBze",
    "outputId": "e99f7669-d87d-494a-c3f1-5507c651f95e"
   },
   "outputs": [],
   "source": []
  },
  {
   "cell_type": "code",
   "execution_count": null,
   "metadata": {
    "colab": {
     "base_uri": "https://localhost:8080/"
    },
    "id": "CmjP68BfCtVW",
    "outputId": "f29cb8f7-6a74-42fd-afb7-c842c1294f77"
   },
   "outputs": [],
   "source": [
    "# High %\n",
    "inside_box = []\n",
    "\n",
    "for i in range(len(img)):\n",
    "  pred_result = model('/content/test/' + img[i])\n",
    "  true_result = pd.read_csv('/content/test/' + img[i].replace('.tiff','.csv'))\n",
    "  pred_result = pred_result.pandas().xyxy[0].sort_values(by=['xmin', 'ymin'])[['xmin','ymin','xmax','ymax']]\n",
    "  true_result = true_result.sort_values(by=['X', 'Y'])[['X','Y']].values.tolist()\n",
    "  cnt = 0\n",
    "\n",
    "  pred_temp = pred_result.copy()\n",
    "\n",
    "\n",
    "  for i in true_result:\n",
    "    bounding_box = in_box(pred_temp,i[0],i[1])\n",
    "    if len(bounding_box) > 0:\n",
    "      cnt += 1\n",
    "      pred_temp = pred_temp.drop(index=bounding_box.index[0])\n",
    "  if len(true_result) > 310:\n",
    "    inside_box.append(cnt/len(true_result))\n",
    "sum(inside_box)/len(inside_box)"
   ]
  },
  {
   "cell_type": "code",
   "execution_count": null,
   "metadata": {
    "id": "Q0TbA2W2C3bH"
   },
   "outputs": [],
   "source": []
  },
  {
   "cell_type": "code",
   "execution_count": null,
   "metadata": {
    "id": "RAZ2-VuxMYzZ"
   },
   "outputs": [],
   "source": []
  },
  {
   "cell_type": "code",
   "execution_count": null,
   "metadata": {
    "id": "13joHgrOMY2L"
   },
   "outputs": [],
   "source": []
  },
  {
   "cell_type": "markdown",
   "metadata": {
    "id": "8yUoLv7HhaTH"
   },
   "source": [
    "# Detailed Low Mid High MAE Inside Box"
   ]
  },
  {
   "cell_type": "code",
   "execution_count": null,
   "metadata": {
    "id": "HYacrtUDMY5B"
   },
   "outputs": [],
   "source": [
    "# MAE Inside Box"
   ]
  },
  {
   "cell_type": "code",
   "execution_count": null,
   "metadata": {
    "colab": {
     "base_uri": "https://localhost:8080/"
    },
    "id": "bRpcZpO3Tpkg",
    "outputId": "652f7ecd-4914-4d1d-954c-55b94b417289"
   },
   "outputs": [],
   "source": [
    "# # Overall\n",
    "# inside_box = []\n",
    "\n",
    "# for i in range(len(img)):\n",
    "\n",
    "#   # Load Pred & True Result\n",
    "#   pred_result = model('/content/test/' + img[i])\n",
    "#   true_result = pd.read_csv('/content/test/' + img[i].replace('.tiff','.csv'))\n",
    "\n",
    "\n",
    "#   pred_result = pred_result.pandas().xyxy[0]\n",
    "#   true_result = true_result[['X','Y']].values.tolist()\n",
    "#   cnt = 0\n",
    "\n",
    "#   # copy pred_result\n",
    "#   pred_temp = pred_result.copy()\n",
    "\n",
    "\n",
    "#   for i in true_result:\n",
    "#     bounding_box = in_box(pred_temp,i[0],i[1])\n",
    "#     if len(bounding_box) > 0:\n",
    "#       cnt += 1\n",
    "#       # delete this box so future pts cannot associate with this bounding box\n",
    "#       pred_temp = pred_temp.drop(index=bounding_box.index[0])\n",
    "#   inside_box.append(abs(cnt-len(true_result)))\n",
    "# sum(inside_box)/len(inside_box)"
   ]
  },
  {
   "cell_type": "code",
   "execution_count": null,
   "metadata": {
    "colab": {
     "base_uri": "https://localhost:8080/"
    },
    "id": "8JfTJJYMTpnR",
    "outputId": "a2457ad2-3f96-4fbd-c609-b1752ca8e993"
   },
   "outputs": [],
   "source": [
    "# Inside Box MAE Low\n",
    "inside_box = []\n",
    "\n",
    "for i in range(len(img)):\n",
    "\n",
    "  # Load Pred & True Result\n",
    "  pred_result = model('/content/test/' + img[i])\n",
    "  true_result = pd.read_csv('/content/test/' + img[i].replace('.tiff','.csv'))\n",
    "\n",
    "\n",
    "  pred_result = pred_result.pandas().xyxy[0]\n",
    "  true_result = true_result[['X','Y']].values.tolist()\n",
    "  cnt = 0\n",
    "\n",
    "  # copy pred_result\n",
    "  pred_temp = pred_result.copy()\n",
    "\n",
    "\n",
    "  for i in true_result:\n",
    "    bounding_box = in_box(pred_temp,i[0],i[1])\n",
    "    if len(bounding_box) > 0:\n",
    "      cnt += 1\n",
    "      # delete this box so future pts cannot associate with this bounding box\n",
    "      pred_temp = pred_temp.drop(index=bounding_box.index[0])\n",
    "  if len(true_result) <= 45:\n",
    "    inside_box.append(abs(cnt-len(true_result)))\n",
    "sum(inside_box)/len(inside_box)"
   ]
  },
  {
   "cell_type": "code",
   "execution_count": null,
   "metadata": {
    "id": "CGSlhn6Pfrr7"
   },
   "outputs": [],
   "source": []
  },
  {
   "cell_type": "code",
   "execution_count": null,
   "metadata": {
    "colab": {
     "base_uri": "https://localhost:8080/"
    },
    "id": "fGTrSIOsTpqE",
    "outputId": "8788266f-29da-4fc6-acd3-3a747268db15"
   },
   "outputs": [],
   "source": [
    "# Inside Box MAE Mid\n",
    "inside_box = []\n",
    "\n",
    "for i in range(len(img)):\n",
    "\n",
    "  # Load Pred & True Result\n",
    "  pred_result = model('/content/test/' + img[i])\n",
    "  true_result = pd.read_csv('/content/test/' + img[i].replace('.tiff','.csv'))\n",
    "\n",
    "\n",
    "  pred_result = pred_result.pandas().xyxy[0]\n",
    "  true_result = true_result[['X','Y']].values.tolist()\n",
    "  cnt = 0\n",
    "\n",
    "  # copy pred_result\n",
    "  pred_temp = pred_result.copy()\n",
    "\n",
    "\n",
    "  for i in true_result:\n",
    "    bounding_box = in_box(pred_temp,i[0],i[1])\n",
    "    if len(bounding_box) > 0:\n",
    "      cnt += 1\n",
    "      # delete this box so future pts cannot associate with this bounding box\n",
    "      pred_temp = pred_temp.drop(index=bounding_box.index[0])\n",
    "  if len(true_result) >= 45 and len(true_result) < 310:\n",
    "    inside_box.append(abs(cnt-len(true_result)))\n",
    "sum(inside_box)/len(inside_box)"
   ]
  },
  {
   "cell_type": "code",
   "execution_count": null,
   "metadata": {
    "colab": {
     "base_uri": "https://localhost:8080/"
    },
    "id": "fNqYs1GXTpsw",
    "outputId": "42f64d61-76e6-4b8c-bd1e-b82d402cc70d"
   },
   "outputs": [],
   "source": [
    "# Inside Box MAE High\n",
    "inside_box = []\n",
    "\n",
    "for i in range(len(img)):\n",
    "\n",
    "  # Load Pred & True Result\n",
    "  pred_result = model('/content/test/' + img[i])\n",
    "  true_result = pd.read_csv('/content/test/' + img[i].replace('.tiff','.csv'))\n",
    "\n",
    "\n",
    "  pred_result = pred_result.pandas().xyxy[0]\n",
    "  true_result = true_result[['X','Y']].values.tolist()\n",
    "  cnt = 0\n",
    "\n",
    "  # copy pred_result\n",
    "  pred_temp = pred_result.copy()\n",
    "\n",
    "\n",
    "  for i in true_result:\n",
    "    bounding_box = in_box(pred_temp,i[0],i[1])\n",
    "    if len(bounding_box) > 0:\n",
    "      cnt += 1\n",
    "      # delete this box so future pts cannot associate with this bounding box\n",
    "      pred_temp = pred_temp.drop(index=bounding_box.index[0])\n",
    "  if len(true_result) > 310:\n",
    "    inside_box.append(abs(cnt-len(true_result)))\n",
    "sum(inside_box)/len(inside_box)"
   ]
  },
  {
   "cell_type": "code",
   "execution_count": null,
   "metadata": {
    "id": "O5BkpO_KTpvH"
   },
   "outputs": [],
   "source": []
  },
  {
   "cell_type": "markdown",
   "metadata": {
    "id": "A19_KljhirqU"
   },
   "source": [
    "# Detailed Low Migh High Inside Box ACP"
   ]
  },
  {
   "cell_type": "code",
   "execution_count": null,
   "metadata": {
    "colab": {
     "base_uri": "https://localhost:8080/"
    },
    "id": "hbdoCdIDTpxY",
    "outputId": "c77a63b3-1a90-4048-be8b-b989fa662ce7"
   },
   "outputs": [],
   "source": [
    "#ACP OverALL\n",
    "satisfy_acp = 0\n",
    "\n",
    "\n",
    "# count the number of images\n",
    "cnt_num = 0\n",
    "for i in range(len(img)):\n",
    "\n",
    "  true_result = pd.read_csv('/content/test/' + img[i].replace('.tiff','.csv'))\n",
    "  true_result = true_result[['X','Y']].values.tolist()\n",
    "  y_true = len(true_result)\n",
    "\n",
    "  pred_result = model('/content/test/' + img[i])\n",
    "  pred_result = pred_result.pandas().xyxy[0]\n",
    "\n",
    "\n",
    "  # true cell is the # of cell in bounding box\n",
    "  true_cell = 0\n",
    "\n",
    "  # copy pred_result\n",
    "  pred_temp = pred_result.copy()\n",
    "  for i in true_result:\n",
    "    bounding_box = in_box(pred_temp,i[0],i[1])\n",
    "    if len(bounding_box) > 0:\n",
    "      true_cell += 1\n",
    "      # delete this box so future pts cannot associate with this bounding box\n",
    "      pred_temp = pred_temp.drop(index=bounding_box.index[0])\n",
    "\n",
    "\n",
    "  y_pred = true_cell\n",
    "  cnt_num += 1\n",
    "\n",
    "\n",
    "  if abs(y_pred-y_true) <= 0.05 * y_true:\n",
    "    satisfy_acp += 1\n",
    "print(satisfy_acp/cnt_num)"
   ]
  },
  {
   "cell_type": "code",
   "execution_count": null,
   "metadata": {
    "colab": {
     "base_uri": "https://localhost:8080/"
    },
    "id": "OV2SZToVSheF",
    "outputId": "30b0510d-3a87-441b-813d-1d7e2b58bbf7"
   },
   "outputs": [],
   "source": []
  },
  {
   "cell_type": "code",
   "execution_count": null,
   "metadata": {
    "colab": {
     "base_uri": "https://localhost:8080/"
    },
    "id": "jbw8JpMbUObj",
    "outputId": "031f466f-0461-482a-f571-b7896438653e"
   },
   "outputs": [],
   "source": [
    "#Inside box ACP Low\n",
    "satisfy_acp = 0\n",
    "\n",
    "\n",
    "# count the number of images\n",
    "cnt_num = 0\n",
    "for i in range(len(img)):\n",
    "\n",
    "  true_result = pd.read_csv('/content/test/' + img[i].replace('.tiff','.csv'))\n",
    "  true_result = true_result[['X','Y']].values.tolist()\n",
    "  y_true = len(true_result)\n",
    "\n",
    "  pred_result = model('/content/test/' + img[i])\n",
    "  pred_result = pred_result.pandas().xyxy[0]\n",
    "\n",
    "\n",
    "  # true cell is the # of cell in bounding box\n",
    "  true_cell = 0\n",
    "\n",
    "  # copy pred_result\n",
    "  pred_temp = pred_result.copy()\n",
    "  for i in true_result:\n",
    "    bounding_box = in_box(pred_temp,i[0],i[1])\n",
    "    if len(bounding_box) > 0:\n",
    "      true_cell += 1\n",
    "      # delete this box so future pts cannot associate with this bounding box\n",
    "      pred_temp = pred_temp.drop(index=bounding_box.index[0])\n",
    "\n",
    "  if y_true <= 45:\n",
    "    y_pred = true_cell\n",
    "    cnt_num += 1\n",
    "\n",
    "    if abs(y_pred-y_true) <= 0.05 * y_true:\n",
    "      satisfy_acp += 1\n",
    "print(satisfy_acp/cnt_num)\n",
    "print(satisfy_acp, cnt_num)"
   ]
  },
  {
   "cell_type": "code",
   "execution_count": null,
   "metadata": {
    "id": "Z8cdhiaHURSN"
   },
   "outputs": [],
   "source": []
  },
  {
   "cell_type": "code",
   "execution_count": null,
   "metadata": {
    "colab": {
     "base_uri": "https://localhost:8080/"
    },
    "id": "Zdy1kSEtUOd9",
    "outputId": "1ba60edb-5fb6-401e-e199-a54ed5c8c542"
   },
   "outputs": [],
   "source": [
    "#Inside box ACP Mid\n",
    "satisfy_acp = 0\n",
    "\n",
    "\n",
    "# count the number of images\n",
    "cnt_num = 0\n",
    "for i in range(len(img)):\n",
    "\n",
    "  true_result = pd.read_csv('/content/test/' + img[i].replace('.tiff','.csv'))\n",
    "  true_result = true_result[['X','Y']].values.tolist()\n",
    "  y_true = len(true_result)\n",
    "\n",
    "  pred_result = model('/content/test/' + img[i])\n",
    "  pred_result = pred_result.pandas().xyxy[0]\n",
    "\n",
    "\n",
    "  # true cell is the # of cell in bounding box\n",
    "  true_cell = 0\n",
    "\n",
    "  # copy pred_result\n",
    "  pred_temp = pred_result.copy()\n",
    "  for i in true_result:\n",
    "    bounding_box = in_box(pred_temp,i[0],i[1])\n",
    "    if len(bounding_box) > 0:\n",
    "      true_cell += 1\n",
    "      # delete this box so future pts cannot associate with this bounding box\n",
    "      pred_temp = pred_temp.drop(index=bounding_box.index[0])\n",
    "\n",
    "  if y_true > 45 and y_true <= 310:\n",
    "    y_pred = true_cell\n",
    "    cnt_num += 1\n",
    "\n",
    "\n",
    "    if abs(y_pred-y_true) <= 0.05 * y_true:\n",
    "      satisfy_acp += 1\n",
    "print(satisfy_acp/cnt_num)\n",
    "print(satisfy_acp, cnt_num)"
   ]
  },
  {
   "cell_type": "code",
   "execution_count": null,
   "metadata": {
    "id": "wtCDPlWUVcD2"
   },
   "outputs": [],
   "source": []
  },
  {
   "cell_type": "code",
   "execution_count": null,
   "metadata": {
    "colab": {
     "base_uri": "https://localhost:8080/"
    },
    "id": "VXft5nDwUOgQ",
    "outputId": "189ef8c4-9186-4aa2-85d3-80cabfa03dd4"
   },
   "outputs": [],
   "source": [
    "#Inside boxACP High\n",
    "satisfy_acp = 0\n",
    "\n",
    "\n",
    "# count the number of images\n",
    "cnt_num = 0\n",
    "for i in range(len(img)):\n",
    "\n",
    "  true_result = pd.read_csv('/content/test/' + img[i].replace('.tiff','.csv'))\n",
    "  true_result = true_result[['X','Y']].values.tolist()\n",
    "  y_true = len(true_result)\n",
    "\n",
    "  pred_result = model('/content/test/' + img[i])\n",
    "  pred_result = pred_result.pandas().xyxy[0]\n",
    "\n",
    "\n",
    "  # true cell is the # of cell in bounding box\n",
    "  true_cell = 0\n",
    "\n",
    "  # copy pred_result\n",
    "  pred_temp = pred_result.copy()\n",
    "  for i in true_result:\n",
    "    bounding_box = in_box(pred_temp,i[0],i[1])\n",
    "    if len(bounding_box) > 0:\n",
    "      true_cell += 1\n",
    "      # delete this box so future pts cannot associate with this bounding box\n",
    "      pred_temp = pred_temp.drop(index=bounding_box.index[0])\n",
    "\n",
    "  if y_true > 310:\n",
    "    y_pred = true_cell\n",
    "    cnt_num += 1\n",
    "\n",
    "\n",
    "    if abs(y_pred-y_true) <= 0.05 * y_true:\n",
    "      satisfy_acp += 1\n",
    "print(satisfy_acp/cnt_num)\n",
    "print(satisfy_acp, cnt_num)"
   ]
  },
  {
   "cell_type": "code",
   "execution_count": null,
   "metadata": {
    "id": "SnhfREyvUOij"
   },
   "outputs": [],
   "source": []
  },
  {
   "cell_type": "code",
   "execution_count": null,
   "metadata": {
    "id": "Fs7pCgW3WmMS"
   },
   "outputs": [],
   "source": []
  },
  {
   "cell_type": "code",
   "execution_count": null,
   "metadata": {
    "id": "X55v8rR1W1Io"
   },
   "outputs": [],
   "source": []
  },
  {
   "cell_type": "code",
   "execution_count": null,
   "metadata": {
    "id": "itwtX00YV1fa"
   },
   "outputs": [],
   "source": []
  },
  {
   "cell_type": "code",
   "execution_count": null,
   "metadata": {
    "id": "67qEMPUTV1im"
   },
   "outputs": [],
   "source": []
  },
  {
   "cell_type": "code",
   "execution_count": null,
   "metadata": {
    "id": "H5YCV90FV1lP"
   },
   "outputs": [],
   "source": []
  },
  {
   "cell_type": "code",
   "execution_count": null,
   "metadata": {
    "id": "hhdX5dsrV1nw"
   },
   "outputs": [],
   "source": [
    "# Visualization"
   ]
  },
  {
   "cell_type": "code",
   "execution_count": null,
   "metadata": {
    "colab": {
     "base_uri": "https://localhost:8080/",
     "height": 1000
    },
    "id": "R9SkTwDCV1ps",
    "outputId": "59ae04a0-28ca-4b0a-ce98-02aec4f64244"
   },
   "outputs": [],
   "source": [
    "data_path = '/content/test/220909_GFP-AHPC_A_GFAP_F9_DAPI_ND1_20x.csv'\n",
    "img_path = '/content/test/220909_GFP-AHPC_A_GFAP_F9_DAPI_ND1_20x.tiff'\n",
    "results = model(img_path)\n",
    "data = pd.read_csv(data_path)\n",
    "data = data[['X','Y']]\n",
    "pred = results.pandas().xyxy[0]\n",
    "xmin_pred = pred['xmin'].values.tolist()\n",
    "ymin_pred = pred['ymin'].values.tolist()\n",
    "height = (pred['ymax'] - pred['ymin']).values.tolist()\n",
    "width = (pred['xmax'] - pred['xmin']).values.tolist()\n",
    "img = plt.imread(img_path)\n",
    "\n",
    "\n",
    "# Counting True prediction Boxes\n",
    "#######################################################################################\n",
    "pred_result = model(img_path)\n",
    "pred_result = pred_result.pandas().xyxy[0][['xmin','ymin','xmax','ymax']]\n",
    "true_result = pd.read_csv(data_path)\n",
    "true_result = true_result[['X','Y']].values.tolist()\n",
    "\n",
    "\n",
    "# true cell is the # of cell in bounding box\n",
    "true_cell_pred = 0\n",
    "\n",
    "# copy pred_result\n",
    "pred_temp = pred_result.copy()\n",
    "for i in true_result:\n",
    "  bounding_box = in_box(pred_temp,i[0],i[1])\n",
    "  if len(bounding_box) > 0:\n",
    "    true_cell_pred += 1\n",
    "    # delete this box so future pts cannot associate with this bounding box\n",
    "    pred_temp = pred_temp.drop(index=bounding_box.index[0])\n",
    "\n",
    "#######################################################################################\n",
    "\n",
    "\n",
    "\n",
    "\n",
    "fig, ax = plt.subplots(1,1, figsize=(20,15))\n",
    "ax.imshow(img)\n",
    "ax.imshow(img)\n",
    "\n",
    "\n",
    "\n",
    "ax.scatter(data['X'], data['Y'], color='red', s=70)\n",
    "for i in range(len(xmin_pred)):\n",
    "  x = xmin_pred[i]\n",
    "  y = ymin_pred[i]\n",
    "  h = height[i]\n",
    "  w = width[i]\n",
    "  rect = matplotlib.patches.Rectangle((x, y),w,h, linewidth=2, edgecolor='y', facecolor='none')\n",
    "  ax.add_patch(rect)\n",
    "\n",
    "\n",
    "\n",
    "plt.title(f'True:{len(true_result)} Predicted:{true_cell_pred}', fontsize=50)\n",
    "\n",
    "#plt.show()\n",
    "plt.savefig('fig.png')"
   ]
  },
  {
   "cell_type": "code",
   "execution_count": null,
   "metadata": {
    "id": "y8ipvomjXjDt"
   },
   "outputs": [],
   "source": [
    "pred_result = model(img_path)\n",
    "pred_result = pred_result.pandas().xyxy[0][['xmin','ymin','xmax','ymax']]\n",
    "true_result = pd.read_csv(data_path)\n",
    "true_result = true_result[['X','Y']].values.tolist()"
   ]
  },
  {
   "cell_type": "code",
   "execution_count": null,
   "metadata": {
    "id": "TZKe1pS4X8Qx"
   },
   "outputs": [],
   "source": [
    "# true cell is the # of cell in bounding box\n",
    "true_cell_pred = 0\n",
    "\n",
    "# copy pred_result\n",
    "pred_temp = pred_result.copy()\n",
    "for i in true_result:\n",
    "  bounding_box = in_box(pred_temp,i[0],i[1])\n",
    "  if len(bounding_box) > 0:\n",
    "    true_cell_pred += 1\n",
    "    # delete this box so future pts cannot associate with this bounding box\n",
    "    pred_temp = pred_temp.drop(index=bounding_box.index[0])"
   ]
  },
  {
   "cell_type": "code",
   "execution_count": null,
   "metadata": {
    "colab": {
     "base_uri": "https://localhost:8080/"
    },
    "id": "mScXgiRmYJis",
    "outputId": "592788eb-1dee-42b4-8662-f2661b358819"
   },
   "outputs": [],
   "source": [
    "print(true_cell_pred)"
   ]
  },
  {
   "cell_type": "code",
   "execution_count": null,
   "metadata": {
    "colab": {
     "base_uri": "https://localhost:8080/"
    },
    "id": "_psIF7ykYNCC",
    "outputId": "4b0140fe-e611-456a-e3dc-46020dacb649"
   },
   "outputs": [],
   "source": [
    "print(len(true_result))"
   ]
  },
  {
   "cell_type": "code",
   "execution_count": null,
   "metadata": {
    "colab": {
     "base_uri": "https://localhost:8080/",
     "height": 424
    },
    "id": "kmZtvvhZYa66",
    "outputId": "6ef09892-9067-4917-ba3e-67064e947b95"
   },
   "outputs": [],
   "source": [
    "pred_result = model(img_path)\n",
    "pred_result.pandas().xyxy[0]"
   ]
  }
 ],
 "metadata": {
  "colab": {
   "provenance": []
  },
  "kernelspec": {
   "display_name": "Python 3",
   "language": "python",
   "name": "python3"
  },
  "language_info": {
   "codemirror_mode": {
    "name": "ipython",
    "version": 3
   },
   "file_extension": ".py",
   "mimetype": "text/x-python",
   "name": "python",
   "nbconvert_exporter": "python",
   "pygments_lexer": "ipython3",
   "version": "3.8.5"
  }
 },
 "nbformat": 4,
 "nbformat_minor": 1
}
